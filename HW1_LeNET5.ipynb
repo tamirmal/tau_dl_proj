{
  "nbformat": 4,
  "nbformat_minor": 0,
  "metadata": {
    "colab": {
      "name": "HW1_LeNET5.ipynb",
      "provenance": [],
      "collapsed_sections": [],
      "include_colab_link": true
    },
    "kernelspec": {
      "name": "python3",
      "display_name": "Python 3"
    },
    "accelerator": "GPU"
  },
  "cells": [
    {
      "cell_type": "markdown",
      "metadata": {
        "id": "view-in-github",
        "colab_type": "text"
      },
      "source": [
        "<a href=\"https://colab.research.google.com/github/tamirmal/tau_dl_proj/blob/master/HW1_LeNET5.ipynb\" target=\"_parent\"><img src=\"https://colab.research.google.com/assets/colab-badge.svg\" alt=\"Open In Colab\"/></a>"
      ]
    },
    {
      "cell_type": "code",
      "metadata": {
        "id": "KrluS2LTLaiR",
        "colab_type": "code",
        "outputId": "6b9478c8-d3c1-4a59-b630-af9bdee75ffa",
        "colab": {
          "base_uri": "https://localhost:8080/",
          "height": 416
        }
      },
      "source": [
        "import torch\n",
        "import torch.nn as nn\n",
        "import torch.nn.functional as F\n",
        "\n",
        "!pip install ipdb\n",
        "import ipdb\n",
        "\n",
        "%tensorflow_version 2.x\n",
        "import datetime, os\n",
        "\n",
        "def print_net_trainable_parameters(net):\n",
        "    params = list(net.parameters())\n",
        "    print(len(params))\n",
        "    for p in params:\n",
        "      if p.requires_grad:\n",
        "        print(p.size())\n"
      ],
      "execution_count": 1,
      "outputs": [
        {
          "output_type": "stream",
          "text": [
            "Collecting ipdb\n",
            "  Downloading https://files.pythonhosted.org/packages/df/78/3d0d7253dc85549db182cbe4b43b30c506c84008fcd39898122c9b6306a9/ipdb-0.12.2.tar.gz\n",
            "Requirement already satisfied: setuptools in /usr/local/lib/python3.6/dist-packages (from ipdb) (41.6.0)\n",
            "Requirement already satisfied: ipython>=5.1.0 in /usr/local/lib/python3.6/dist-packages (from ipdb) (5.5.0)\n",
            "Requirement already satisfied: decorator in /usr/local/lib/python3.6/dist-packages (from ipython>=5.1.0->ipdb) (4.4.1)\n",
            "Requirement already satisfied: simplegeneric>0.8 in /usr/local/lib/python3.6/dist-packages (from ipython>=5.1.0->ipdb) (0.8.1)\n",
            "Requirement already satisfied: pygments in /usr/local/lib/python3.6/dist-packages (from ipython>=5.1.0->ipdb) (2.1.3)\n",
            "Requirement already satisfied: traitlets>=4.2 in /usr/local/lib/python3.6/dist-packages (from ipython>=5.1.0->ipdb) (4.3.3)\n",
            "Requirement already satisfied: prompt-toolkit<2.0.0,>=1.0.4 in /usr/local/lib/python3.6/dist-packages (from ipython>=5.1.0->ipdb) (1.0.18)\n",
            "Requirement already satisfied: pickleshare in /usr/local/lib/python3.6/dist-packages (from ipython>=5.1.0->ipdb) (0.7.5)\n",
            "Requirement already satisfied: pexpect; sys_platform != \"win32\" in /usr/local/lib/python3.6/dist-packages (from ipython>=5.1.0->ipdb) (4.7.0)\n",
            "Requirement already satisfied: six in /usr/local/lib/python3.6/dist-packages (from traitlets>=4.2->ipython>=5.1.0->ipdb) (1.12.0)\n",
            "Requirement already satisfied: ipython-genutils in /usr/local/lib/python3.6/dist-packages (from traitlets>=4.2->ipython>=5.1.0->ipdb) (0.2.0)\n",
            "Requirement already satisfied: wcwidth in /usr/local/lib/python3.6/dist-packages (from prompt-toolkit<2.0.0,>=1.0.4->ipython>=5.1.0->ipdb) (0.1.7)\n",
            "Requirement already satisfied: ptyprocess>=0.5 in /usr/local/lib/python3.6/dist-packages (from pexpect; sys_platform != \"win32\"->ipython>=5.1.0->ipdb) (0.6.0)\n",
            "Building wheels for collected packages: ipdb\n",
            "  Building wheel for ipdb (setup.py) ... \u001b[?25l\u001b[?25hdone\n",
            "  Created wheel for ipdb: filename=ipdb-0.12.2-cp36-none-any.whl size=9171 sha256=e2918c1d900319bb1131524b19f692aab73e036b59885da918eecd2230c5489d\n",
            "  Stored in directory: /root/.cache/pip/wheels/7a/00/07/c906eaf1b90367fbb81bd840e56bf8859dbd3efe3838c0b4ba\n",
            "Successfully built ipdb\n",
            "Installing collected packages: ipdb\n",
            "Successfully installed ipdb-0.12.2\n",
            "TensorFlow 2.x selected.\n"
          ],
          "name": "stdout"
        }
      ]
    },
    {
      "cell_type": "code",
      "metadata": {
        "id": "jt9P8SPyIhb8",
        "colab_type": "code",
        "colab": {}
      },
      "source": [
        "%load_ext tensorboard\n",
        "\n",
        "!rm -fr logs\n",
        "!mkdir logs\n",
        "%tensorboard --logdir logs\n",
        "\n",
        "\n",
        "from torch.utils.tensorboard import SummaryWriter\n",
        "writer = SummaryWriter(log_dir='logs/')\n"
      ],
      "execution_count": 0,
      "outputs": []
    },
    {
      "cell_type": "code",
      "metadata": {
        "id": "2VTb4n0sX6QY",
        "colab_type": "code",
        "outputId": "ff154a14-7578-4d22-de84-c8ef0a5ef252",
        "colab": {
          "base_uri": "https://localhost:8080/",
          "height": 686
        }
      },
      "source": [
        "import matplotlib.pyplot as plt\n",
        "import numpy as np\n",
        "import torchvision\n",
        "from torchvision.datasets.mnist import FashionMNIST\n",
        "import torchvision.transforms as transforms\n",
        "from torch.utils.data import DataLoader\n",
        "\n",
        "#from google.colab import drive\n",
        "#drive.mount('/content/drive')\n",
        "# dataset from : https://github.com/zalandoresearch/fashion-mnist\n",
        "\n",
        "N_batch = 128\n",
        "\n",
        "means = 0.5\n",
        "deviations = means\n",
        "transform = transforms.Compose([transforms.Resize((32, 32)),\n",
        "                                transforms.ToTensor(),\n",
        "                                transforms.Normalize((0.5,), (1.0,))])\n",
        "\n",
        "#transform=transforms.Compose([\n",
        "#  transforms.Resize((32, 32)),\n",
        "#  transforms.ToTensor()])\n",
        "\n",
        "data_train = FashionMNIST('./',\n",
        "    download=True,\n",
        "    transform=transform)\n",
        "data_test = FashionMNIST('./',\n",
        "    train=False,\n",
        "    download=True,\n",
        "    transform=transform)\n",
        "data_train_loader = DataLoader(data_train, batch_size=N_batch, shuffle=True, num_workers=4)\n",
        "data_test_loader = DataLoader(data_test, batch_size=1024, num_workers=4)\n",
        "\n",
        "## print some samples for sanity check\n",
        "## (https://www.kaggle.com/pinocookie/pytorch-dataset-and-dataloader)\n",
        "train_iter = iter(data_train_loader)\n",
        "images, labels = train_iter.next()\n",
        "\n",
        "print('images shape on batch size = {}'.format(images.size()))\n",
        "print('labels shape on batch size = {}'.format(labels.size()))\n",
        "\n",
        "grid = torchvision.utils.make_grid(images)\n",
        "plt.imshow(grid.numpy().transpose((1, 2, 0)))\n",
        "\n",
        "print(images[0])"
      ],
      "execution_count": 2,
      "outputs": [
        {
          "output_type": "stream",
          "text": [
            "\r0it [00:00, ?it/s]"
          ],
          "name": "stderr"
        },
        {
          "output_type": "stream",
          "text": [
            "Downloading http://fashion-mnist.s3-website.eu-central-1.amazonaws.com/train-images-idx3-ubyte.gz to ./FashionMNIST/raw/train-images-idx3-ubyte.gz\n"
          ],
          "name": "stdout"
        },
        {
          "output_type": "stream",
          "text": [
            "26427392it [00:02, 13185218.12it/s]                              \n"
          ],
          "name": "stderr"
        },
        {
          "output_type": "stream",
          "text": [
            "Extracting ./FashionMNIST/raw/train-images-idx3-ubyte.gz to ./FashionMNIST/raw\n"
          ],
          "name": "stdout"
        },
        {
          "output_type": "stream",
          "text": [
            "\r0it [00:00, ?it/s]"
          ],
          "name": "stderr"
        },
        {
          "output_type": "stream",
          "text": [
            "Downloading http://fashion-mnist.s3-website.eu-central-1.amazonaws.com/train-labels-idx1-ubyte.gz to ./FashionMNIST/raw/train-labels-idx1-ubyte.gz\n"
          ],
          "name": "stdout"
        },
        {
          "output_type": "stream",
          "text": [
            "32768it [00:00, 86816.56it/s]                            \n",
            "0it [00:00, ?it/s]"
          ],
          "name": "stderr"
        },
        {
          "output_type": "stream",
          "text": [
            "Extracting ./FashionMNIST/raw/train-labels-idx1-ubyte.gz to ./FashionMNIST/raw\n",
            "Downloading http://fashion-mnist.s3-website.eu-central-1.amazonaws.com/t10k-images-idx3-ubyte.gz to ./FashionMNIST/raw/t10k-images-idx3-ubyte.gz\n"
          ],
          "name": "stdout"
        },
        {
          "output_type": "stream",
          "text": [
            "4423680it [00:01, 4027512.50it/s]                             \n",
            "0it [00:00, ?it/s]"
          ],
          "name": "stderr"
        },
        {
          "output_type": "stream",
          "text": [
            "Extracting ./FashionMNIST/raw/t10k-images-idx3-ubyte.gz to ./FashionMNIST/raw\n",
            "Downloading http://fashion-mnist.s3-website.eu-central-1.amazonaws.com/t10k-labels-idx1-ubyte.gz to ./FashionMNIST/raw/t10k-labels-idx1-ubyte.gz\n"
          ],
          "name": "stdout"
        },
        {
          "output_type": "stream",
          "text": [
            "8192it [00:00, 32189.76it/s]            "
          ],
          "name": "stderr"
        },
        {
          "output_type": "stream",
          "text": [
            "Extracting ./FashionMNIST/raw/t10k-labels-idx1-ubyte.gz to ./FashionMNIST/raw\n",
            "Processing...\n",
            "Done!\n"
          ],
          "name": "stdout"
        },
        {
          "output_type": "stream",
          "text": [
            "\n",
            "Clipping input data to the valid range for imshow with RGB data ([0..1] for floats or [0..255] for integers).\n"
          ],
          "name": "stderr"
        },
        {
          "output_type": "stream",
          "text": [
            "images shape on batch size = torch.Size([128, 1, 32, 32])\n",
            "labels shape on batch size = torch.Size([128])\n",
            "tensor([[[-0.5000, -0.5000, -0.5000,  ..., -0.5000, -0.5000, -0.5000],\n",
            "         [-0.5000, -0.5000, -0.5000,  ..., -0.5000, -0.5000, -0.5000],\n",
            "         [-0.5000, -0.5000, -0.5000,  ..., -0.5000, -0.5000, -0.5000],\n",
            "         ...,\n",
            "         [-0.5000, -0.5000, -0.5000,  ..., -0.5000, -0.5000, -0.5000],\n",
            "         [-0.5000, -0.5000, -0.5000,  ..., -0.5000, -0.5000, -0.5000],\n",
            "         [-0.5000, -0.5000, -0.5000,  ..., -0.5000, -0.5000, -0.5000]]])\n"
          ],
          "name": "stdout"
        },
        {
          "output_type": "display_data",
          "data": {
            "image/png": "[encoded data removed]",
            "text/plain": [
              "<Figure size 432x288 with 1 Axes>"
            ]
          },
          "metadata": {
            "tags": []
          }
        }
      ]
    },
    {
      "cell_type": "markdown",
      "metadata": {
        "id": "4sJSrabjMKW9",
        "colab_type": "text"
      },
      "source": [
        "![LeNet5](https://www.researchgate.net/profile/Gabriel_Falcao/publication/321665783/figure/fig2/AS:635289152282624@1528476145313/The-architecture-of-LeNet-5-23-a-CNN-used-for-digits-recognition-for-the-MNIST-dataset.png)"
      ]
    },
    {
      "cell_type": "code",
      "metadata": {
        "id": "1uT8_bZ-MIFq",
        "colab_type": "code",
        "colab": {}
      },
      "source": [
        "N_epochs = 50\n",
        "\n",
        "device = torch.device(\"cuda:0\" if torch.cuda.is_available() else \"cpu\")\n",
        "\n",
        "# train 1 epoch, epoch = sweep over all examples in train set\n",
        "# in iterations, each iteration trains over a minibatch\n",
        "def train_net(net, optimizer, epoch):\n",
        "  net.to(device)\n",
        "  net.train() # set at train mode, will activate dropout layers or similar stuff that are valid only for train\n",
        "  \n",
        "  n_minibatches ,running_loss, running_correct = 0, 0, 0\n",
        "  no_dropout_correct = 0\n",
        "  for i, data in enumerate(data_train_loader):\n",
        "    images, labels = data[0].to(device), data[1].to(device)\n",
        "    optimizer.zero_grad()\n",
        "    output = net(images)\n",
        "    loss = criterion(output, labels)\n",
        "    loss.backward()   # backprop the gradients - DOES NOT UPDATE\n",
        "    optimizer.step()  # apply the gradient update\n",
        "                      # notice how loss.backward and optimizer.step are separate! beacuse update is based on a rule\n",
        "                      # that might be different for each optimizer (Adam, Momentum etc.) but the gradients are the same\n",
        "    n_minibatches += 1\n",
        "    running_loss += loss.item()\n",
        "    running_correct += (torch.max(output, 1)[1].view(labels.size()) == labels).sum().item()\n",
        "\n",
        "    if 'dropout' in net.name:\n",
        "      net.eval()\n",
        "      output = net(images)\n",
        "      no_dropout_correct += (torch.max(output, 1)[1].view(labels.size()) == labels).sum().item()\n",
        "      net.train()\n",
        "\n",
        "  # end of for\n",
        "\n",
        "  # print statistics\n",
        "  N_total = N_batch*n_minibatches\n",
        "  print(\"epoch {} loss {} train_set acc {}%\".format(epoch, running_loss / N_total, 100*(running_correct / N_total)))\n",
        "  if 'dropout' in net.name:\n",
        "    print(\"epoch {} w/o dropout train_set acc {}%\".format(epoch, 100*(no_dropout_correct / N_total)))\n",
        "\n",
        "  writer.add_scalar(net.name+'/Loss/train', running_loss / N_total, epoch)\n",
        "  writer.add_scalar(net.name+'/Accuracy/train', 100*(running_correct / N_total), epoch)\n",
        "  writer.add_scalar(net.name+'/Accuracy/train-no-dropout', 100*(no_dropout_correct / N_total), epoch)\n",
        "  # end of function\n",
        "\n",
        "def test_net(net):\n",
        "    net.eval() # put in eval mode, disable dropout etc.\n",
        "    total_correct = 0\n",
        "    avg_loss = 0.0\n",
        "    for i, data in enumerate(data_test_loader):\n",
        "        images, labels = data[0].to(device), data[1].to(device)\n",
        "        output = net(images)\n",
        "        avg_loss += criterion(output, labels).sum()\n",
        "        pred = output.detach().max(1)[1]\n",
        "        total_correct += pred.eq(labels.view_as(pred)).sum()\n",
        "    # end of for\n",
        "    avg_loss /= len(data_test)\n",
        "    print('Test Avg. Loss: %f, Accuracy: %f' % (avg_loss.item(), 100*(float(total_correct) / len(data_test))))\n",
        "    writer.add_scalar(net.name+'/Loss/test', avg_loss.item(), epoch)\n",
        "    writer.add_scalar(net.name+'/Accuracy/test', 100*(float(total_correct) / len(data_test)), epoch)\n",
        "  # end of function\n"
      ],
      "execution_count": 0,
      "outputs": []
    },
    {
      "cell_type": "code",
      "metadata": {
        "id": "m5klvDtyawaA",
        "colab_type": "code",
        "colab": {}
      },
      "source": [
        ""
      ],
      "execution_count": 0,
      "outputs": []
    },
    {
      "cell_type": "code",
      "metadata": {
        "id": "0f1RSSFUfcM7",
        "colab_type": "code",
        "outputId": "b17b094d-1ce8-489b-9666-3295b78e35ca",
        "colab": {
          "base_uri": "https://localhost:8080/",
          "height": 347
        }
      },
      "source": [
        "import torch.optim as optim\n",
        "\n",
        "## pyTorch first tuturial implements this network\n",
        "## https://pytorch.org/tutorials/beginner/blitz/neural_networks_tutorial.html#sphx-glr-beginner-blitz-neural-networks-tutorial-py\n",
        "\n",
        "class LeNet5(nn.Module):\n",
        "# As in http://vision.stanford.edu/cs598_spring07/papers/Lecun98.pdf\n",
        "  \n",
        "    def num_flat_features(self, x):\n",
        "        size = x.size()[1:]  # all dimensions except the batch dimension\n",
        "        num_features = 1\n",
        "        for s in size:\n",
        "            num_features *= s\n",
        "        return num_features\n",
        "\n",
        "    def __init__(self, regulizer_type=None):\n",
        "        super(LeNet5, self).__init__()\n",
        "        self.conv1 = nn.Conv2d(1, 6, 5, stride=1)\n",
        "        self.conv2 = nn.Conv2d(6, 16, 5, stride=1)\n",
        "        self.fc1 = nn.Linear(16 * 5 * 5, 120) # tuturial had 6x6x16, but i think it should be 5x5x16\n",
        "        self.fc2 = nn.Linear(120, 84)\n",
        "        self.fc3 = nn.Linear(84, 10)\n",
        "\n",
        "        if regulizer_type is None:\n",
        "          self.name = 'vanilla_lenet5'\n",
        "        elif regulizer_type == 'dropout':\n",
        "          self.name = 'dropout_lenet5'\n",
        "          self.dropout1 = nn.Dropout(0.2) # lower p for conv layers\n",
        "          self.dropout2 = nn.Dropout(0.2)\n",
        "          self.dropout3 = nn.Dropout(0.5)\n",
        "          self.dropout4 = nn.Dropout(0.5)\n",
        "        elif regulizer_type == 'BN':\n",
        "          self.name = 'BN_lenet5'\n",
        "          self.bn1 = nn.BatchNorm2d(6)\n",
        "          self.bn2 = nn.BatchNorm2d(16)\n",
        "          self.bn3 = nn.BatchNorm1d(120) # trying WITH BN in fully conntected, however I think its not really needed\n",
        "          self.bn4 = nn.BatchNorm1d(84)\n",
        "        elif regulizer_type == 'WD':\n",
        "          self.name = 'WD_lenet5'\n",
        "\n",
        "    def forward(self, x):     \n",
        "        pool = F.max_pool2d\n",
        "        # pool = F.avg_pool2d\n",
        "        activation = F.relu\n",
        "        #activation = F.tanh\n",
        "\n",
        "        ### CONV1 block ###\n",
        "        x = self.conv1(x)\n",
        "        if self.name == 'BN_lenet5':\n",
        "          x = self.bn1(x)\n",
        "        elif self.name == 'dropout_lenet5':\n",
        "          x = self.dropout1(x)\n",
        "        x = pool(activation(x), 2)\n",
        "\n",
        "        ### CONV2 block ###\n",
        "        x = self.conv2(x)\n",
        "        if self.name == 'BN_lenet5':\n",
        "          x = self.bn2(x)\n",
        "        elif self.name == 'dropout_lenet5':\n",
        "          x = self.dropout2(x)\n",
        "        x = pool(activation(x), 2)\n",
        "\n",
        "        x = x.view(-1, self.num_flat_features(x))\n",
        "\n",
        "        ### FC1 ###\n",
        "        x = self.fc1(x)\n",
        "        if self.name == 'BN_lenet5':\n",
        "          x = self.bn3(x)\n",
        "        elif self.name == 'dropout_lenet5':\n",
        "          x = self.dropout3(x)\n",
        "        x = activation(x)\n",
        "\n",
        "        ### FC2 ###\n",
        "        x = self.fc2(x)\n",
        "        if self.name == 'BN_lenet5':\n",
        "          x = self.bn4(x)\n",
        "        elif self.name == 'dropout_lenet5':\n",
        "          x = self.dropout4(x)\n",
        "        x = activation(x)\n",
        "\n",
        "        ### FC3 & Softmax ###\n",
        "        x = F.softmax(self.fc3(x))\n",
        "        return x\n",
        "\n",
        "print(\"Print the network trainable parameters\")\n",
        "vanilla_LeNet5 = LeNet5()\n",
        "print(vanilla_LeNet5)\n",
        "print_net_trainable_parameters(vanilla_LeNet5)\n",
        "\n",
        "criterion = nn.CrossEntropyLoss()\n",
        "optimizer_sgd = optim.SGD(vanilla_LeNet5.parameters(), lr=0.01, momentum=0.9)\n",
        "optimizer_adam = optim.Adam(vanilla_LeNet5.parameters(), lr=0.001)\n"
      ],
      "execution_count": 0,
      "outputs": [
        {
          "output_type": "stream",
          "text": [
            "Print the network trainable parameters\n",
            "LeNet5(\n",
            "  (conv1): Conv2d(1, 6, kernel_size=(5, 5), stride=(1, 1))\n",
            "  (conv2): Conv2d(6, 16, kernel_size=(5, 5), stride=(1, 1))\n",
            "  (fc1): Linear(in_features=400, out_features=120, bias=True)\n",
            "  (fc2): Linear(in_features=120, out_features=84, bias=True)\n",
            "  (fc3): Linear(in_features=84, out_features=10, bias=True)\n",
            ")\n",
            "10\n",
            "torch.Size([6, 1, 5, 5])\n",
            "torch.Size([6])\n",
            "torch.Size([16, 6, 5, 5])\n",
            "torch.Size([16])\n",
            "torch.Size([120, 400])\n",
            "torch.Size([120])\n",
            "torch.Size([84, 120])\n",
            "torch.Size([84])\n",
            "torch.Size([10, 84])\n",
            "torch.Size([10])\n"
          ],
          "name": "stdout"
        }
      ]
    },
    {
      "cell_type": "code",
      "metadata": {
        "id": "7Q-T9TFHhLGM",
        "colab_type": "code",
        "colab": {}
      },
      "source": [
        "for epoch in range(1, N_epochs):\n",
        "    train_net(vanilla_LeNet5, optimizer_sgd, epoch)\n",
        "    test_net(vanilla_LeNet5)\n",
        "\n",
        "for epoch in range(N_epochs, 2*N_epochs):\n",
        "    train_net(vanilla_LeNet5, optimizer_adam, epoch)\n",
        "    test_net(vanilla_LeNet5)\n"
      ],
      "execution_count": 0,
      "outputs": []
    },
    {
      "cell_type": "code",
      "metadata": {
        "id": "7Hz-v0RXxwLE",
        "colab_type": "code",
        "colab": {}
      },
      "source": [
        "lenet5dropout = LeNet5(regulizer_type='dropout')\n",
        "optimizer_sgd = optim.SGD(lenet5dropout.parameters(), lr=0.01, momentum=0.9)\n",
        "#optimizer_sgd = optim.SGD(lenet5dropout.parameters(), lr=0.01)\n",
        "optimizer_adam = optim.Adam(lenet5dropout.parameters(), lr=0.001)"
      ],
      "execution_count": 0,
      "outputs": []
    },
    {
      "cell_type": "code",
      "metadata": {
        "id": "Mi3mnoVgtXmE",
        "colab_type": "code",
        "colab": {}
      },
      "source": [
        "N_epochs = 50\n",
        "\n",
        "for epoch in range(1, N_epochs):\n",
        "    train_net(lenet5dropout, optimizer_sgd, epoch)\n",
        "    test_net(lenet5dropout)\n",
        "\n",
        "for epoch in range(N_epochs, 2*N_epochs):\n",
        "    train_net(lenet5dropout, optimizer_adam, epoch)\n",
        "    test_net(lenet5dropout)\n"
      ],
      "execution_count": 0,
      "outputs": []
    },
    {
      "cell_type": "code",
      "metadata": {
        "id": "BRn_Rhioq0oL",
        "colab_type": "code",
        "colab": {}
      },
      "source": [
        "lenet5bn = LeNet5(regulizer_type='BN')\n",
        "optimizer_sgd = optim.SGD(lenet5bn.parameters(), lr=0.01, momentum=0.9)\n",
        "optimizer_adam = optim.Adam(lenet5bn.parameters(), lr=0.001)"
      ],
      "execution_count": 0,
      "outputs": []
    },
    {
      "cell_type": "code",
      "metadata": {
        "id": "Nb-AuOKTsudU",
        "colab_type": "code",
        "colab": {}
      },
      "source": [
        "N_epochs = 50\n",
        "\n",
        "for epoch in range(1, 100):\n",
        "    train_net(lenet5bn, optimizer_sgd, epoch)\n",
        "    test_net(lenet5bn)\n",
        "\n",
        "for epoch in range(100, 150):\n",
        "    train_net(lenet5bn, optimizer_adam, epoch)\n",
        "    test_net(lenet5bn)\n"
      ],
      "execution_count": 0,
      "outputs": []
    },
    {
      "cell_type": "code",
      "metadata": {
        "id": "GIE57JRIwpof",
        "colab_type": "code",
        "colab": {}
      },
      "source": [
        "lenet5weight_decay = LeNet5(regulizer_type='WD')\n",
        "optimizer_sgd = optim.SGD(lenet5weight_decay.parameters(), lr=0.01, momentum=0.9, weight_decay=0.1)\n",
        "optimizer_adam = optim.Adam(lenet5weight_decay.parameters(), lr=0.001, weight_decay=0.1)\n",
        "\n",
        "N_epochs = 50\n",
        "\n",
        "for epoch in range(1, N_epochs):\n",
        "    train_net(lenet5weight_decay, optimizer_sgd, epoch)\n",
        "    test_net(lenet5weight_decay)\n",
        "\n",
        "for epoch in range(N_epochs, 2*N_epochs):\n",
        "    train_net(lenet5weight_decay, optimizer_adam, epoch)\n",
        "    test_net(lenet5weight_decay)\n"
      ],
      "execution_count": 0,
      "outputs": []
    }
  ]
}